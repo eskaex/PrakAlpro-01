{
  "nbformat": 4,
  "nbformat_minor": 0,
  "metadata": {
    "colab": {
      "provenance": [],
      "authorship_tag": "ABX9TyPw0aF0+cyNB5tle1T57fxc",
      "include_colab_link": true
    },
    "kernelspec": {
      "name": "python3",
      "display_name": "Python 3"
    },
    "language_info": {
      "name": "python"
    }
  },
  "cells": [
    {
      "cell_type": "markdown",
      "metadata": {
        "id": "view-in-github",
        "colab_type": "text"
      },
      "source": [
        "<a href=\"https://colab.research.google.com/github/eskaex/PrakAlpro-01/blob/main/Week_7.ipynb\" target=\"_parent\"><img src=\"https://colab.research.google.com/assets/colab-badge.svg\" alt=\"Open In Colab\"/></a>"
      ]
    },
    {
      "cell_type": "code",
      "execution_count": null,
      "metadata": {
        "colab": {
          "base_uri": "https://localhost:8080/"
        },
        "id": "pVU7wSAxUqko",
        "outputId": "d2659291-d6d1-4a08-ecd0-b2b84f3b026c"
      },
      "outputs": [
        {
          "output_type": "stream",
          "name": "stdout",
          "text": [
            "Masukkan nilai n: 13\n",
            "Bilangan prima terdekat sebelum 13 adalah 11\n"
          ]
        }
      ],
      "source": [
        "n = int(input(\"Masukkan nilai n: \"))\n",
        "\n",
        "for i in range(n - 1, 1, -1):\n",
        "    prima = True\n",
        "    for j in range(2, i):\n",
        "        if i % j == 0:\n",
        "            prima = False\n",
        "            break\n",
        "    if prima:\n",
        "        print(f\"Bilangan prima terdekat sebelum {n} adalah {i}\")\n",
        "        break"
      ]
    },
    {
      "cell_type": "code",
      "source": [
        "n = int(input(\"Masukkan nilai n: \"))\n",
        "\n",
        "for i in range(n, 0, -1):\n",
        "    faktorial = 1\n",
        "    for k in range(1, i + 1):\n",
        "        faktorial = faktorial * k\n",
        "    print(faktorial, end=\" \")\n",
        "\n",
        "    # Cetak deret angka turun\n",
        "    for j in range(i, 0, -1):\n",
        "        print(j, end=\" \")\n",
        "    print()"
      ],
      "metadata": {
        "colab": {
          "base_uri": "https://localhost:8080/"
        },
        "id": "T-GlPMGfV8X-",
        "outputId": "c4f24d00-1f66-473a-dfd5-0d944d528084"
      },
      "execution_count": null,
      "outputs": [
        {
          "output_type": "stream",
          "name": "stdout",
          "text": [
            "Masukkan nilai n: 6\n",
            "720 6 5 4 3 2 1 \n",
            "120 5 4 3 2 1 \n",
            "24 4 3 2 1 \n",
            "6 3 2 1 \n",
            "2 2 1 \n",
            "1 1 \n"
          ]
        }
      ]
    },
    {
      "cell_type": "code",
      "source": [
        "tinggi = int(input(\"Masukkan tinggi: \"))\n",
        "lebar = int(input(\"Masukkan lebar: \"))\n",
        "\n",
        "angka = 1\n",
        "for i in range(tinggi):\n",
        "    for j in range(lebar):\n",
        "        print(angka, end=\" \")\n",
        "        angka += 1\n",
        "    print()"
      ],
      "metadata": {
        "colab": {
          "base_uri": "https://localhost:8080/"
        },
        "id": "4oVEG6yeWuXc",
        "outputId": "a8063c96-e8e6-421f-df50-15d7b826a619"
      },
      "execution_count": 6,
      "outputs": [
        {
          "output_type": "stream",
          "name": "stdout",
          "text": [
            "Masukkan tinggi: 5\n",
            "Masukkan lebar: 4\n",
            "1 2 3 4 \n",
            "5 6 7 8 \n",
            "9 10 11 12 \n",
            "13 14 15 16 \n",
            "17 18 19 20 \n"
          ]
        }
      ]
    }
  ]
}