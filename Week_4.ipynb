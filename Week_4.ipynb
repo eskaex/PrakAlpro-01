{
  "nbformat": 4,
  "nbformat_minor": 0,
  "metadata": {
    "colab": {
      "provenance": [],
      "authorship_tag": "ABX9TyOafW4BpinmfPRQZ5i7Jf1m",
      "include_colab_link": true
    },
    "kernelspec": {
      "name": "python3",
      "display_name": "Python 3"
    },
    "language_info": {
      "name": "python"
    }
  },
  "cells": [
    {
      "cell_type": "markdown",
      "metadata": {
        "id": "view-in-github",
        "colab_type": "text"
      },
      "source": [
        "<a href=\"https://colab.research.google.com/github/eskaex/PrakAlpro-01/blob/main/Week_4.ipynb\" target=\"_parent\"><img src=\"https://colab.research.google.com/assets/colab-badge.svg\" alt=\"Open In Colab\"/></a>"
      ]
    },
    {
      "cell_type": "code",
      "execution_count": 6,
      "metadata": {
        "colab": {
          "base_uri": "https://localhost:8080/"
        },
        "id": "NE-l2N6Ze3-X",
        "outputId": "4a56838a-19b7-4020-ddc0-99e20f7b130a"
      },
      "outputs": [
        {
          "output_type": "stream",
          "name": "stdout",
          "text": [
            "Masukkan suhu tubuh: 36\n",
            "Anda tidak demam\n"
          ]
        }
      ],
      "source": [
        "suhu = input(\"Masukkan suhu tubuh: \")\n",
        "try:\n",
        "    suhu = int(suhu)\n",
        "    if suhu >= 38:\n",
        "        print(\"Anda demam\")\n",
        "    else:\n",
        "        print(\"Anda tidak demam\")\n",
        "except:\n",
        "    print(\"Input suhu berupa integer(angka) ya!\")\n",
        ""
      ]
    },
    {
      "cell_type": "code",
      "source": [
        "bilangan = (input(\"Masukkan suatu bilangan: \"))\n",
        "try:\n",
        "    bilangan = int(bilangan)\n",
        "    if bilangan > 0:\n",
        "        print(\"Positif\")\n",
        "    elif bilangan < 0:\n",
        "        print(\"Negatif\")\n",
        "    else:\n",
        "        print(\"Nol\")\n",
        "except:\n",
        "    print(\"Input suhu berupa integer(angka) ya!\")"
      ],
      "metadata": {
        "colab": {
          "base_uri": "https://localhost:8080/"
        },
        "id": "V2BntW3yg1Xb",
        "outputId": "fce8bb3f-03d6-43f7-d909-8a60c65a0739"
      },
      "execution_count": 5,
      "outputs": [
        {
          "output_type": "stream",
          "name": "stdout",
          "text": [
            "Masukkan suatu bilangan: 10\n",
            "Positif\n"
          ]
        }
      ]
    },
    {
      "cell_type": "code",
      "source": [
        "a = input(\"Masukkan bilangan pertama: \")\n",
        "b = input(\"Masukkan bilangan kedua: \")\n",
        "c = input(\"Masukkan bilangan ketiga: \")\n",
        "try:\n",
        "    a = int(a)\n",
        "    b = int(b)\n",
        "    c = int(c)\n",
        "    if a > b and a > c:\n",
        "        print(\"Terbesar: \", a)\n",
        "    elif b > a and b > c:\n",
        "        print(\"Terbesar: \", b)\n",
        "    else:\n",
        "        print(\"Terbesar: \", c)\n",
        "except:\n",
        "    print(\"Input suhu berupa integer(angka) ya!\")"
      ],
      "metadata": {
        "colab": {
          "base_uri": "https://localhost:8080/"
        },
        "id": "1sTLXP_7iBZc",
        "outputId": "36d50592-17ed-4223-aed6-4c12bf620082"
      },
      "execution_count": 7,
      "outputs": [
        {
          "output_type": "stream",
          "name": "stdout",
          "text": [
            "Masukkan bilangan pertama: 4\n",
            "Masukkan bilangan kedua: 5\n",
            "Masukkan bilangan ketiga: 3\n",
            "Terbesar:  5\n"
          ]
        }
      ]
    },
    {
      "cell_type": "code",
      "source": [
        "bilangan = int(input(\"Masukkan suatu bilangan: \"))\n",
        "tipe = \"Positif\" if bilangan > 0 else \"Negatif\" if bilangan < 0 else \"Nol\"\n",
        "print(tipe)"
      ],
      "metadata": {
        "colab": {
          "base_uri": "https://localhost:8080/"
        },
        "id": "TaFcIKDoomye",
        "outputId": "a96a272e-8685-4d4b-9d87-12de88502960"
      },
      "execution_count": 9,
      "outputs": [
        {
          "output_type": "stream",
          "name": "stdout",
          "text": [
            "Masukkan suatu bilangan: -7\n",
            "Negatif\n"
          ]
        }
      ]
    },
    {
      "cell_type": "code",
      "source": [
        "bulan = input(\"Masukan bulan (1-12): \")\n",
        "try:\n",
        "  bulan = int(bulan)\n",
        "  if bulan == 2:\n",
        "    print(\"Jumlah hari: 29\")\n",
        "  elif bulan in [1, 3, 5, 7, 8, 10, 12]:\n",
        "    print(\"Jumlah hari: 31\")\n",
        "  elif bulan in [4, 6, 9, 11]:\n",
        "    print(\"Jumlah hari: 30\")\n",
        "  else:\n",
        "    print(\"Bulan bukan 0 dan tidak lebih dari 12, Silahkan input ulang kembali\")\n",
        "except:\n",
        "  print(\"Input dengan mengetik salah satu angka diantara 1-12\")\n",
        "\n"
      ],
      "metadata": {
        "colab": {
          "base_uri": "https://localhost:8080/"
        },
        "id": "SUa2axb5rzgs",
        "outputId": "976df11c-1e6d-4996-fc83-214e3d325c77"
      },
      "execution_count": 12,
      "outputs": [
        {
          "output_type": "stream",
          "name": "stdout",
          "text": [
            "Masukan bulan (1-12): 8\n",
            "Jumlah hari: 31\n"
          ]
        }
      ]
    },
    {
      "cell_type": "code",
      "source": [
        "sisi1 = input(\"Masukan panjang sisi pertama: \")\n",
        "sisi2 = input(\"Masukan panjang sisi kedua: \")\n",
        "sisi3 = input(\"Masukan panjang sisi ketiga: \")\n",
        "\n",
        "try:\n",
        "  sisi1 = int(sisi1)\n",
        "  sisi2 = int(sisi2)\n",
        "  sisi3 = int(sisi3)\n",
        "\n",
        "  if sisi1 == sisi2 == sisi3:\n",
        "    print(\"3 sisi sama\")\n",
        "  elif sisi1 == sisi2 or sisi1 == sisi3 or sisi2 == sisi3:\n",
        "    print(\"2 sisi sama\")\n",
        "  else:\n",
        "     print(\"Tidak ada yang sama\")\n",
        "except:\n",
        "    print(\"Masukan panjang sisi segitiga dalam bentuk angka!\")"
      ],
      "metadata": {
        "colab": {
          "base_uri": "https://localhost:8080/"
        },
        "id": "8zDod9xlxjKM",
        "outputId": "39d5be07-843a-48f1-96c5-4e3ae0ccc846"
      },
      "execution_count": 13,
      "outputs": [
        {
          "output_type": "stream",
          "name": "stdout",
          "text": [
            "Masukan panjang sisi pertama: 5\n",
            "Masukan panjang sisi kedua: 7\n",
            "Masukan panjang sisi ketiga: 5\n",
            "2 sisi sama\n"
          ]
        }
      ]
    }
  ]
}