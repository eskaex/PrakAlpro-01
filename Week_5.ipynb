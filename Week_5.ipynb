{
  "nbformat": 4,
  "nbformat_minor": 0,
  "metadata": {
    "colab": {
      "provenance": [],
      "authorship_tag": "ABX9TyOtSUyJEH8LTe/1ujbR5k9D",
      "include_colab_link": true
    },
    "kernelspec": {
      "name": "python3",
      "display_name": "Python 3"
    },
    "language_info": {
      "name": "python"
    }
  },
  "cells": [
    {
      "cell_type": "markdown",
      "metadata": {
        "id": "view-in-github",
        "colab_type": "text"
      },
      "source": [
        "<a href=\"https://colab.research.google.com/github/eskaex/PrakAlpro-01/blob/main/Week_5.ipynb\" target=\"_parent\"><img src=\"https://colab.research.google.com/assets/colab-badge.svg\" alt=\"Open In Colab\"/></a>"
      ]
    },
    {
      "cell_type": "code",
      "execution_count": null,
      "metadata": {
        "id": "lkdW_9BP2osq"
      },
      "outputs": [],
      "source": [
        "def cek_angka(a, b, c):\n",
        "    if a != b and b != c and a != c:\n",
        "        if a + b == c or a + c == b or b + c == a:\n",
        "            return True\n",
        "        else:\n",
        "            return False\n",
        "    else:\n",
        "      return False"
      ]
    },
    {
      "cell_type": "code",
      "source": [
        "def cek_digit_belakang(a, b, c):\n",
        "    satuan_a = a % 10\n",
        "    satuan_b = b % 10\n",
        "    satuan_c = c % 10\n",
        "    return (satuan_a == satuan_b) or (satuan_a == satuan_b) or (satuan_b == satuan_c)\n",
        "\n",
        "angka1 = int(input(\"Masukkan angka pertama: \"))\n",
        "angka2 = int(input(\"Masukkan angka kedua: \"))\n",
        "angka3 = int(input(\"Masukkan angka ketiga: \"))\n",
        "\n",
        "hasil = cek_digit_belakang(angka1, angka2, angka3)\n",
        "print(\"Output:\", hasil)\n"
      ],
      "metadata": {
        "colab": {
          "base_uri": "https://localhost:8080/"
        },
        "id": "mZcfNxwl4vzd",
        "outputId": "02d9b4df-9fb1-4c66-c573-e57b164c4a66"
      },
      "execution_count": null,
      "outputs": [
        {
          "output_type": "stream",
          "name": "stdout",
          "text": [
            "Masukkan angka pertama: 145\n",
            "Masukkan angka kedua: 5\n",
            "Masukkan angka ketiga: 100\n",
            "Output: True\n"
          ]
        }
      ]
    },
    {
      "cell_type": "code",
      "source": [
        "c_to_f = lambda c: (9/5) * c + 32\n",
        "c_to_r = lambda c: 0.8 * c\n",
        "\n",
        "c = int(input(\"Masukkan suhu dalam Celcius: \"))\n",
        "konversi = input(\"Konversi ke (F/R): \")\n",
        "\n",
        "if konversi == \"F\":\n",
        "    print(f\"{c} Celcius ke Fahrenheit: {c_to_f(c)}\")\n",
        "elif konversi == \"R\":\n",
        "    print(f\"{c} Celcius ke Reamur: {c_to_r(c)}\")\n",
        "else:\n",
        "    print(\"Pilihan tidak valid. Silakan masukkan 'F' atau 'R'.\")"
      ],
      "metadata": {
        "colab": {
          "base_uri": "https://localhost:8080/"
        },
        "id": "8gOE8SpN7-yH",
        "outputId": "e69970f5-567a-4889-dbfa-07930da42dcf"
      },
      "execution_count": null,
      "outputs": [
        {
          "output_type": "stream",
          "name": "stdout",
          "text": [
            "Masukkan suhu dalam Celcius: 100\n",
            "Konversi ke (F/R): F\n",
            "100 Celcius ke Fahrenheit: 212.0\n"
          ]
        }
      ]
    }
  ]
}