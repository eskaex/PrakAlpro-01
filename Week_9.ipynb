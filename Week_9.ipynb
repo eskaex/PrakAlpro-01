{
  "nbformat": 4,
  "nbformat_minor": 0,
  "metadata": {
    "colab": {
      "provenance": [],
      "authorship_tag": "ABX9TyMCbhTb8mje08FeBG9EFG9o",
      "include_colab_link": true
    },
    "kernelspec": {
      "name": "python3",
      "display_name": "Python 3"
    },
    "language_info": {
      "name": "python"
    }
  },
  "cells": [
    {
      "cell_type": "markdown",
      "metadata": {
        "id": "view-in-github",
        "colab_type": "text"
      },
      "source": [
        "<a href=\"https://colab.research.google.com/github/eskaex/PrakAlpro-01/blob/main/Week_9.ipynb\" target=\"_parent\"><img src=\"https://colab.research.google.com/assets/colab-badge.svg\" alt=\"Open In Colab\"/></a>"
      ]
    },
    {
      "cell_type": "code",
      "execution_count": 2,
      "metadata": {
        "id": "ePUZ0bsEG8w_",
        "colab": {
          "base_uri": "https://localhost:8080/"
        },
        "outputId": "c6bb8ce6-aa3a-4a28-a410-e3e6c601624c"
      },
      "outputs": [
        {
          "output_type": "stream",
          "name": "stdout",
          "text": [
            "True\n"
          ]
        }
      ],
      "source": [
        "def cek_anagram(kata1, kata2):\n",
        "    return sorted(kata1.lower()) == sorted(kata2.lower())\n",
        "\n",
        "print(cek_anagram(\"kasur\", \"rusak\"))"
      ]
    },
    {
      "cell_type": "code",
      "source": [
        "import re\n",
        "\n",
        "def hitung_kata(kalimat, kata_target):\n",
        "    kalimat = kalimat.lower()\n",
        "    kata_target = kata_target.lower()\n",
        "    kata_ditemukan = re.findall(r'\\b' + re.escape(kata_target) + r'\\b', kalimat)\n",
        "    return len(kata_ditemukan)\n",
        "\n",
        "teks = \"Saya mau makan. Makan itu wajib. Mau siang atau malam saya wajib makan\"\n",
        "print(hitung_kata(teks, \"makan\"))"
      ],
      "metadata": {
        "colab": {
          "base_uri": "https://localhost:8080/"
        },
        "id": "pyMlpyI6AdrQ",
        "outputId": "83a38494-f92b-4ee3-93f4-85c6e6a8af85"
      },
      "execution_count": 3,
      "outputs": [
        {
          "output_type": "stream",
          "name": "stdout",
          "text": [
            "3\n"
          ]
        }
      ]
    },
    {
      "cell_type": "code",
      "source": [
        "import re\n",
        "\n",
        "def hapus_spasi_berlebih(kalimat):\n",
        "    return re.sub(r'\\s+', ' ', kalimat).strip()\n",
        "\n",
        "teks = \"saya     tidak   suka   memancing   ikan   \"\n",
        "print(hapus_spasi_berlebih(teks))"
      ],
      "metadata": {
        "colab": {
          "base_uri": "https://localhost:8080/"
        },
        "id": "dv00roBfDGEP",
        "outputId": "80fac84c-7e68-4556-b450-dba09d55feae"
      },
      "execution_count": 4,
      "outputs": [
        {
          "output_type": "stream",
          "name": "stdout",
          "text": [
            "saya tidak suka memancing ikan\n"
          ]
        }
      ]
    },
    {
      "cell_type": "code",
      "source": [
        "import re\n",
        "\n",
        "def kata_terpendek_terpanjang(kalimat):\n",
        "    kata_kata = re.findall(r'\\b\\w+\\b', kalimat)\n",
        "    terpendek = min(kata_kata, key=len)\n",
        "    terpanjang = max(kata_kata, key=len)\n",
        "    return terpendek, terpanjang\n",
        "\n",
        "teks = \"red snakes and a black frog in the pool\"\n",
        "pendek, panjang = kata_terpendek_terpanjang(teks)\n",
        "print(f\"terpendek: {pendek}, terpanjang: {panjang}\")"
      ],
      "metadata": {
        "colab": {
          "base_uri": "https://localhost:8080/"
        },
        "id": "kznoeRMODaG_",
        "outputId": "4a3dad2b-57dc-4b55-99b7-76e9afe599b0"
      },
      "execution_count": 5,
      "outputs": [
        {
          "output_type": "stream",
          "name": "stdout",
          "text": [
            "terpendek: a, terpanjang: snakes\n"
          ]
        }
      ]
    },
    {
      "cell_type": "code",
      "source": [
        "import re\n",
        "from datetime import datetime\n",
        "\n",
        "def cari_tanggal_dan_selisih(teks):\n",
        "    pola_tanggal = r'\\d{4}-\\d{2}-\\d{2}'\n",
        "    tanggal_list = re.findall(pola_tanggal, teks)\n",
        "    today = datetime.today()\n",
        "\n",
        "    for tgl_str in tanggal_list:\n",
        "        tgl_obj = datetime.strptime(tgl_str, '%Y-%m-%d')\n",
        "        selisih = today - tgl_obj\n",
        "        print(f\"{tgl_obj.date()} selisih {selisih.days} hari\")\n",
        "\n",
        "paragraf = \"\"\"\n",
        "Pada tanggal 1945-08-17 Indonesia merdeka.\n",
        "Indonesia memiliki beberapa pahlawan nasional seperti Diponegoro (TL: 1785-11-11),\n",
        "Pattimura (TL: 1783-06-08) dan Ki Hajar Dewantara (1889-05-02).\n",
        "\"\"\"\n",
        "cari_tanggal_dan_selisih(paragraf)"
      ],
      "metadata": {
        "colab": {
          "base_uri": "https://localhost:8080/"
        },
        "id": "KrAVl9R3Dp1f",
        "outputId": "7b48679a-e8ec-436d-99cb-b469ab0f14ec"
      },
      "execution_count": 6,
      "outputs": [
        {
          "output_type": "stream",
          "name": "stdout",
          "text": [
            "1945-08-17 selisih 29107 hari\n",
            "1785-11-11 selisih 87459 hari\n",
            "1783-06-08 selisih 88346 hari\n",
            "1889-05-02 selisih 49667 hari\n"
          ]
        }
      ]
    },
    {
      "cell_type": "code",
      "source": [
        "import re\n",
        "import random\n",
        "import string\n",
        "\n",
        "def ambil_username_dan_password(teks):\n",
        "    email_list = re.findall(r'[\\w\\.-]+@[\\w\\.-]+', teks)\n",
        "    hasil = []\n",
        "\n",
        "    for email in email_list:\n",
        "        username = email.split('@')[0]\n",
        "        password = ''.join(random.choices(string.ascii_letters + string.digits, k=8))\n",
        "        hasil.append((email, username, password))\n",
        "    return hasil\n",
        "\n",
        "paragraf = \"\"\"\n",
        "Berikut adalah daftar email dan nama pengguna dari mailing list:\n",
        "anton@mail.com dimiliki oleh antonius\n",
        "budi@gmail.co.id dimiliki oleh budi anwari\n",
        "slamet@getnada.com dimiliki oleh slamet slumut\n",
        "matahari@tokopedia.com dimiliki oleh toko matahari\n",
        "\"\"\"\n",
        "hasil = ambil_username_dan_password(paragraf)\n",
        "\n",
        "for email, username, password in hasil:\n",
        "    print(f\"{email} username: {username}, password: {password}\")"
      ],
      "metadata": {
        "colab": {
          "base_uri": "https://localhost:8080/"
        },
        "id": "XmWADFf4D7sP",
        "outputId": "94db8412-b225-47f7-eb27-95f4a0230071"
      },
      "execution_count": 7,
      "outputs": [
        {
          "output_type": "stream",
          "name": "stdout",
          "text": [
            "anton@mail.com username: anton, password: x49CVxUl\n",
            "budi@gmail.co.id username: budi, password: nrgT82fl\n",
            "slamet@getnada.com username: slamet, password: dOr7XnLo\n",
            "matahari@tokopedia.com username: matahari, password: pjcUmMe6\n"
          ]
        }
      ]
    }
  ]
}