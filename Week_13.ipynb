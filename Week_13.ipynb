{
  "nbformat": 4,
  "nbformat_minor": 0,
  "metadata": {
    "colab": {
      "provenance": [],
      "authorship_tag": "ABX9TyNfLq53bl3rVW7b40u7ikjq",
      "include_colab_link": true
    },
    "kernelspec": {
      "name": "python3",
      "display_name": "Python 3"
    },
    "language_info": {
      "name": "python"
    }
  },
  "cells": [
    {
      "cell_type": "markdown",
      "metadata": {
        "id": "view-in-github",
        "colab_type": "text"
      },
      "source": [
        "<a href=\"https://colab.research.google.com/github/eskaex/PrakAlpro-01/blob/main/Week_13.ipynb\" target=\"_parent\"><img src=\"https://colab.research.google.com/assets/colab-badge.svg\" alt=\"Open In Colab\"/></a>"
      ]
    },
    {
      "cell_type": "code",
      "execution_count": null,
      "metadata": {
        "id": "n_iXfi9_hwoO"
      },
      "outputs": [],
      "source": [
        "def cek(tupl):\n",
        "    for i in tupl:\n",
        "        if i != tupl[0]:\n",
        "            return False\n",
        "    return True\n",
        "\n",
        "print(cek((90,90,90,90)))\n",
        "print(cek((1,2,3,4,5,6,7,8,9,10)))\n",
        "print(cek((5,5,5)))"
      ]
    },
    {
      "cell_type": "code",
      "source": [
        "def data_diri(tupl):\n",
        "    nama = tupl[0]\n",
        "    nim = tupl[1]\n",
        "    alamat = tupl[2]\n",
        "    print(f\"NIM: {nim}\")\n",
        "    print(f\"NAMA: {nama}\")\n",
        "    print(f\"ALAMAT: {alamat}\")\n",
        "\n",
        "    NIM = tuple(nim)\n",
        "    NAMA_DEPAN = tuple(nama.split()[0].lower())\n",
        "    NAMA_TERBALIK = tuple(nama.split()[::-1])\n",
        "    print(f\"NIM: {NIM}\")\n",
        "    print(f\"NAMA DEPAN: {NAMA_DEPAN}\")\n",
        "    print(f\"NAMA TERBALIK: {NAMA_TERBALIK}\")\n",
        "\n",
        "data_diri((\"Samuel Kristos Xavier\", \"71241085\", \"Ngingas, Klaten\"))"
      ],
      "metadata": {
        "id": "wHfo-8DLh1xI"
      },
      "execution_count": null,
      "outputs": []
    },
    {
      "cell_type": "code",
      "source": [
        "def jam():\n",
        "    count = dict()\n",
        "    file = input(\"Masukkan nama file: \")\n",
        "    try:\n",
        "        data = open(file)\n",
        "    except:\n",
        "        print(\"File tidak ditemukan\")\n",
        "        exit()\n",
        "    for line in data:\n",
        "        if line.startswith('From '):\n",
        "            parts = line.strip().split()\n",
        "            if len(parts) > 5:\n",
        "                time = parts[5]\n",
        "                hour = time.split(':')[0]\n",
        "                count[hour] = count.get(hour, 0) + 1\n",
        "    for hour in sorted(count):\n",
        "        print(hour, count[hour])\n",
        "jam()"
      ],
      "metadata": {
        "id": "POkU4wheh2Fp"
      },
      "execution_count": null,
      "outputs": []
    }
  ]
}