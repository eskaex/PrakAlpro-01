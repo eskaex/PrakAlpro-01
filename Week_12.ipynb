{
  "nbformat": 4,
  "nbformat_minor": 0,
  "metadata": {
    "colab": {
      "provenance": [],
      "authorship_tag": "ABX9TyMRPrLfH8+eKADhzwW7zswL",
      "include_colab_link": true
    },
    "kernelspec": {
      "name": "python3",
      "display_name": "Python 3"
    },
    "language_info": {
      "name": "python"
    }
  },
  "cells": [
    {
      "cell_type": "markdown",
      "metadata": {
        "id": "view-in-github",
        "colab_type": "text"
      },
      "source": [
        "<a href=\"https://colab.research.google.com/github/eskaex/PrakAlpro-01/blob/main/Week_12.ipynb\" target=\"_parent\"><img src=\"https://colab.research.google.com/assets/colab-badge.svg\" alt=\"Open In Colab\"/></a>"
      ]
    },
    {
      "cell_type": "code",
      "execution_count": null,
      "metadata": {
        "colab": {
          "base_uri": "https://localhost:8080/"
        },
        "id": "hJqYmTBG5fga",
        "outputId": "670240b5-108c-4d89-850f-a9d63b6fb0c2"
      },
      "outputs": [
        {
          "output_type": "stream",
          "name": "stdout",
          "text": [
            "key value item\n",
            "1   10    1\n",
            "2   20    2\n",
            "3   30    3\n",
            "4   40    4\n",
            "5   50    5\n",
            "6   60    6\n"
          ]
        }
      ],
      "source": [
        "def info(data):\n",
        "    print(\"key value item\")\n",
        "    for key, value in data.items():\n",
        "        print(f\"{key}   {value}    {key}\")\n",
        "data = {1: 10, 2: 20, 3: 30, 4: 40, 5: 50, 6: 60}\n",
        "info(data)"
      ]
    },
    {
      "cell_type": "code",
      "source": [
        "def gabung_list_jadi_dict(list_a, list_b):\n",
        "    print(dict(zip(list_a, list_b)))\n",
        "\n",
        "lista = ['red', 'green', 'blue']\n",
        "listb = ['#FF0000','#008000', '#0000FF']\n",
        "gabung_list_jadi_dict(lista, listb)"
      ],
      "metadata": {
        "id": "MJvuJO3g8n-C",
        "colab": {
          "base_uri": "https://localhost:8080/"
        },
        "outputId": "4fdab644-ebdf-4053-c767-90563bbffcb3"
      },
      "execution_count": null,
      "outputs": [
        {
          "output_type": "stream",
          "name": "stdout",
          "text": [
            "{'red': '#FF0000', 'green': '#008000', 'blue': '#0000FF'}\n"
          ]
        }
      ]
    },
    {
      "cell_type": "code",
      "source": [
        "def hitung_email_dari_file(nama_file):\n",
        "    try:\n",
        "        file = open(nama_file, 'r')\n",
        "    except FileNotFoundError:\n",
        "        print(\"File tidak ditemukan.\")\n",
        "        return\n",
        "    email_file = {}\n",
        "    for baris in file:\n",
        "        baris = baris.strip()\n",
        "        if baris.startswith('From '):\n",
        "            bagian = baris.split()\n",
        "            email = bagian[1]\n",
        "            email_file[email] = email_file.get(email, 0) + 1\n",
        "    file.close()\n",
        "    return email_file\n",
        "\n",
        "nama_file = input(\"Masukkan nama file : \")\n",
        "hasil = hitung_email_dari_file(nama_file)\n",
        "print(hasil)"
      ],
      "metadata": {
        "id": "3qRMCB-sqP-R"
      },
      "execution_count": null,
      "outputs": []
    },
    {
      "cell_type": "code",
      "source": [
        "def hitung_domain_pengirim(nama_file):\n",
        "    try:\n",
        "        with open(nama_file, 'r') as file:\n",
        "            domain_count = {}\n",
        "            for baris in file:\n",
        "                if baris.startswith(\"From \"):\n",
        "                    bagian = baris.split()\n",
        "                    if len(bagian) >= 2:\n",
        "                        email = bagian[1]\n",
        "                        domain = email.split('@')[-1]\n",
        "                        domain_count[domain] = domain_count.get(domain, 0) + 1\n",
        "        return domain_count\n",
        "    except FileNotFoundError:\n",
        "        print(\"File tidak ditemukan.\")\n",
        "        return {}\n",
        "\n",
        "nama_file = input(\"Masukkan nama file: \")\n",
        "hasil = hitung_domain_pengirim(nama_file)\n",
        "print(hasil)"
      ],
      "metadata": {
        "id": "IZjo5p8EqVDQ"
      },
      "execution_count": null,
      "outputs": []
    }
  ]
}