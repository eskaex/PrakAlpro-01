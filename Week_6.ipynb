{
  "nbformat": 4,
  "nbformat_minor": 0,
  "metadata": {
    "colab": {
      "provenance": [],
      "authorship_tag": "ABX9TyMpX4SX/9mmmyiyWJdkW9wy",
      "include_colab_link": true
    },
    "kernelspec": {
      "name": "python3",
      "display_name": "Python 3"
    },
    "language_info": {
      "name": "python"
    }
  },
  "cells": [
    {
      "cell_type": "markdown",
      "metadata": {
        "id": "view-in-github",
        "colab_type": "text"
      },
      "source": [
        "<a href=\"https://colab.research.google.com/github/eskaex/PrakAlpro-01/blob/main/Week_6.ipynb\" target=\"_parent\"><img src=\"https://colab.research.google.com/assets/colab-badge.svg\" alt=\"Open In Colab\"/></a>"
      ]
    },
    {
      "cell_type": "code",
      "source": [
        "def perkalian(a, b):\n",
        "    hasil = 0\n",
        "    proses = \"\"\n",
        "    for i in range(a):\n",
        "        hasil += b\n",
        "        if i == 0:\n",
        "            proses += str(b)\n",
        "        else:\n",
        "            proses += \" + \" + str(b)\n",
        "    print(f\"{a} x {b} = {proses} = {hasil}\")\n",
        "\n",
        "a = int(input(\"Masukkan angka pertama: \"))\n",
        "b = int(input(\"Masukkan angka kedua: \"))\n",
        "perkalian(a, b)"
      ],
      "metadata": {
        "colab": {
          "base_uri": "https://localhost:8080/"
        },
        "id": "e0yJs4rZuw25",
        "outputId": "7536bb32-936f-494a-bfd5-f2499c633e73"
      },
      "execution_count": 3,
      "outputs": [
        {
          "output_type": "stream",
          "name": "stdout",
          "text": [
            "Masukkan angka pertama: 6\n",
            "Masukkan angka kedua: 5\n",
            "6 x 5 = 5 + 5 + 5 + 5 + 5 + 5 = 30\n"
          ]
        }
      ]
    },
    {
      "cell_type": "code",
      "source": [
        "def ganjil(bawah, atas):\n",
        "    if bawah < atas:\n",
        "        for i in range(bawah, atas + 1):\n",
        "            if i % 2 != 0:\n",
        "                print(i, end=\" \")\n",
        "    else:\n",
        "        for i in range(bawah, atas - 1, -1):\n",
        "            if i % 2 != 0:\n",
        "                print(i, end=\" \")\n",
        "\n",
        "bawah = int(input(\"Masukkan batas bawah: \"))\n",
        "atas = int(input(\"Masukkan batas atas: \"))\n",
        "ganjil(bawah, atas)"
      ],
      "metadata": {
        "colab": {
          "base_uri": "https://localhost:8080/"
        },
        "id": "sqpq7Z9IdQYX",
        "outputId": "0384676c-ad16-4650-9dae-1424f2302b00"
      },
      "execution_count": null,
      "outputs": [
        {
          "output_type": "stream",
          "name": "stdout",
          "text": [
            "Masukkan batas bawah: 21\n",
            "Masukkan batas atas: 31\n",
            "21 23 25 27 29 31 "
          ]
        }
      ]
    },
    {
      "cell_type": "code",
      "source": [
        "def hitung_ips(jumlah_mk):\n",
        "    total_bobot = 0\n",
        "    total_sks = jumlah_mk * 3\n",
        "\n",
        "    for i in range(jumlah_mk):\n",
        "        nilai = input(f\"Masukkan nilai MK ke {i+1} (A/B/C/D): \")\n",
        "        if nilai == 'A':\n",
        "            bobot = 4\n",
        "        elif nilai == 'B':\n",
        "            bobot = 3\n",
        "        elif nilai == 'C':\n",
        "            bobot = 2\n",
        "        else:\n",
        "            bobot = 1\n",
        "        total_bobot += bobot * 3\n",
        "    hitung = total_bobot / total_sks\n",
        "    return hitung\n",
        "\n",
        "jumlah_mk = int(input(\"Masukkan jumlah mata kuliah: \"))\n",
        "ips = hitung_ips(jumlah_mk)\n",
        "print(f\"IPS Anda adalah: {ips:.2f}\")"
      ],
      "metadata": {
        "id": "KAFb7oxPlDyN",
        "colab": {
          "base_uri": "https://localhost:8080/"
        },
        "outputId": "31ee2c3b-a96e-41e8-a7d4-baaf9282bef7"
      },
      "execution_count": 1,
      "outputs": [
        {
          "output_type": "stream",
          "name": "stdout",
          "text": [
            "Masukkan jumlah mata kuliah: 3\n",
            "Masukkan nilai MK ke 1 (A/B/C/D): A\n",
            "Masukkan nilai MK ke 2 (A/B/C/D): B\n",
            "Masukkan nilai MK ke 3 (A/B/C/D): B\n",
            "IPS Anda adalah: 3.33\n"
          ]
        }
      ]
    }
  ]
}