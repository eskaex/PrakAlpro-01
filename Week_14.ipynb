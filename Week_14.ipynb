{
  "nbformat": 4,
  "nbformat_minor": 0,
  "metadata": {
    "colab": {
      "provenance": [],
      "authorship_tag": "ABX9TyP7wVEn0OuEEQAhLd+q18rZ",
      "include_colab_link": true
    },
    "kernelspec": {
      "name": "python3",
      "display_name": "Python 3"
    },
    "language_info": {
      "name": "python"
    }
  },
  "cells": [
    {
      "cell_type": "markdown",
      "metadata": {
        "id": "view-in-github",
        "colab_type": "text"
      },
      "source": [
        "<a href=\"https://colab.research.google.com/github/eskaex/PrakAlpro-01/blob/main/Week_14.ipynb\" target=\"_parent\"><img src=\"https://colab.research.google.com/assets/colab-badge.svg\" alt=\"Open In Colab\"/></a>"
      ]
    },
    {
      "cell_type": "code",
      "source": [
        "# Input jumlah kategori\n",
        "n = int(input('Masukkan jumlah kategori: '))\n",
        "\n",
        "# Siapkan dictionary kosong\n",
        "data_aplikasi = {}\n",
        "\n",
        "# Input nama kategori dan aplikasi di dalamnya\n",
        "for i in range(n):\n",
        "    nama_kategori = input(f'Masukkan nama kategori ke-{i+1}: ')\n",
        "    print(f'Masukkan 5 nama aplikasi di kategori {nama_kategori}:')\n",
        "\n",
        "    aplikasi = []\n",
        "    for j in range(5):\n",
        "        nama_aplikasi = input(f'  Nama aplikasi ke-{j+1}: ')\n",
        "        aplikasi.append(nama_aplikasi)\n",
        "\n",
        "    data_aplikasi[nama_kategori] = aplikasi\n",
        "\n",
        "# 1. Tampilkan semua aplikasi unik dari semua kategori\n",
        "semua_aplikasi = set()\n",
        "for apps in data_aplikasi.values():\n",
        "    semua_aplikasi.update(apps)\n",
        "print('\\n1. Daftar semua aplikasi:')\n",
        "print(semua_aplikasi)\n",
        "\n",
        "# Buat daftar set aplikasi per kategori\n",
        "daftar_aplikasi_list = [set(apps) for apps in data_aplikasi.values()]\n",
        "\n",
        "# 2. Aplikasi yang ada di semua kategori (intersection)\n",
        "hasil_intersection = daftar_aplikasi_list[0]\n",
        "for s in daftar_aplikasi_list[1:]:\n",
        "    hasil_intersection &= s\n",
        "print('\\n2. Aplikasi yang ada di semua kategori:')\n",
        "print(hasil_intersection)\n",
        "\n",
        "# 3. Aplikasi yang hanya muncul di satu kategori (symmetric difference)\n",
        "from collections import Counter\n",
        "\n",
        "counter_aplikasi = Counter()\n",
        "for apps in data_aplikasi.values():\n",
        "    counter_aplikasi.update(apps)\n",
        "\n",
        "aplikasi_satu_kategori = {app for app, count in counter_aplikasi.items() if count == 1}\n",
        "print('\\n3. Aplikasi yang hanya muncul di satu kategori:')\n",
        "print(aplikasi_satu_kategori)\n",
        "\n",
        "# 4. Jika n > 2: aplikasi yang muncul tepat di dua kategori\n",
        "if n > 2:\n",
        "    aplikasi_dua_kategori = {app for app, count in counter_aplikasi.items() if count == 2}\n",
        "    print('\\n4. Aplikasi yang muncul tepat di dua kategori:')\n",
        "    print(aplikasi_dua_kategori)"
      ],
      "metadata": {
        "colab": {
          "base_uri": "https://localhost:8080/"
        },
        "id": "Vho9bLUiNmib",
        "outputId": "32d19cf3-2302-420a-97cd-2ca211df23d4"
      },
      "execution_count": 3,
      "outputs": [
        {
          "output_type": "stream",
          "name": "stdout",
          "text": [
            "Masukkan jumlah kategori: 3\n",
            "Masukkan nama kategori ke-1: X\n",
            "Masukkan 5 nama aplikasi di kategori X:\n",
            "  Nama aplikasi ke-1: a\n",
            "  Nama aplikasi ke-2: b\n",
            "  Nama aplikasi ke-3: c\n",
            "  Nama aplikasi ke-4: d\n",
            "  Nama aplikasi ke-5: e\n",
            "Masukkan nama kategori ke-2: Y\n",
            "Masukkan 5 nama aplikasi di kategori Y:\n",
            "  Nama aplikasi ke-1: e\n",
            "  Nama aplikasi ke-2: f\n",
            "  Nama aplikasi ke-3: g\n",
            "  Nama aplikasi ke-4: h\n",
            "  Nama aplikasi ke-5: i\n",
            "Masukkan nama kategori ke-3: Z\n",
            "Masukkan 5 nama aplikasi di kategori Z:\n",
            "  Nama aplikasi ke-1: a\n",
            "  Nama aplikasi ke-2: e\n",
            "  Nama aplikasi ke-3: j\n",
            "  Nama aplikasi ke-4: k\n",
            "  Nama aplikasi ke-5: l\n",
            "\n",
            "1. Daftar semua aplikasi:\n",
            "{'h', 'i', 'l', 'a', 'c', 'e', 'b', 'k', 'j', 'f', 'd', 'g'}\n",
            "\n",
            "2. Aplikasi yang ada di semua kategori:\n",
            "{'e'}\n",
            "\n",
            "3. Aplikasi yang hanya muncul di satu kategori:\n",
            "{'h', 'i', 'l', 'c', 'b', 'k', 'j', 'f', 'd', 'g'}\n",
            "\n",
            "4. Aplikasi yang muncul tepat di dua kategori:\n",
            "{'a'}\n"
          ]
        }
      ]
    },
    {
      "cell_type": "code",
      "source": [
        "def convert_data(data, konversi):\n",
        "    print(\"Sebelum konversi :\", data, \"| Tipe:\", type(data))\n",
        "    hasil = konversi(data)\n",
        "    print(\"Sesudah konversi :\", hasil, \"| Tipe:\", type(hasil))\n",
        "    print()\n",
        "\n",
        "convert_data([1, 2, 3], set)\n",
        "convert_data({4, 5, 6}, list)\n",
        "convert_data((7, 8, 9), set)\n",
        "convert_data({10, 11, 12}, tuple)"
      ],
      "metadata": {
        "colab": {
          "base_uri": "https://localhost:8080/"
        },
        "id": "yDYbjOCSN7AK",
        "outputId": "8d047743-e28f-45e4-b648-b18e89fd3464"
      },
      "execution_count": 1,
      "outputs": [
        {
          "output_type": "stream",
          "name": "stdout",
          "text": [
            "Sebelum konversi : [1, 2, 3] | Tipe: <class 'list'>\n",
            "Sesudah konversi : {1, 2, 3} | Tipe: <class 'set'>\n",
            "\n",
            "Sebelum konversi : {4, 5, 6} | Tipe: <class 'set'>\n",
            "Sesudah konversi : [4, 5, 6] | Tipe: <class 'list'>\n",
            "\n",
            "Sebelum konversi : (7, 8, 9) | Tipe: <class 'tuple'>\n",
            "Sesudah konversi : {8, 9, 7} | Tipe: <class 'set'>\n",
            "\n",
            "Sebelum konversi : {10, 11, 12} | Tipe: <class 'set'>\n",
            "Sesudah konversi : (10, 11, 12) | Tipe: <class 'tuple'>\n",
            "\n"
          ]
        }
      ]
    },
    {
      "cell_type": "code",
      "source": [
        "def cari_kata_sama_dalam_file():\n",
        "    import string\n",
        "    tanda_baca = string.punctuation.replace(\"'\", \"\")\n",
        "    file1 = input(\"Masukkan nama file pertama: \")\n",
        "    file2 = input(\"Masukkan nama file kedua: \")\n",
        "\n",
        "    try:\n",
        "        # Baca dan proses file pertama\n",
        "        with open(file1, 'r') as f1:\n",
        "            text1 = f1.read().lower()\n",
        "            for char in tanda_baca:\n",
        "                text1 = text1.replace(char, ' ')\n",
        "            words1 = set(text1.split())\n",
        "\n",
        "        # Baca dan proses file kedua\n",
        "        with open(file2, 'r') as f2:\n",
        "            text2 = f2.read().lower()\n",
        "            for char in tanda_baca:\n",
        "                text2 = text2.replace(char, ' ')\n",
        "            words2 = set(text2.split())\n",
        "\n",
        "        common_words = words1 & words2\n",
        "\n",
        "        if common_words:\n",
        "            print(\"\\nKata-kata yang muncul di kedua file:\")\n",
        "            for word in sorted(common_words):\n",
        "                print(word)\n",
        "        else:\n",
        "            print(\"\\nTidak ada kata yang sama di kedua file.\")\n",
        "\n",
        "    except FileNotFoundError:\n",
        "        print(\"Error: Salah satu atau kedua file tidak ditemukan.\")\n",
        "    except IOError:\n",
        "        print(\"Error: Salah satu atau kedua file tidak bisa dibaca.\")\n",
        "\n",
        "cari_kata_sama_dalam_file()"
      ],
      "metadata": {
        "id": "iYbkPO22N_Bi"
      },
      "execution_count": null,
      "outputs": []
    }
  ]
}