{
  "nbformat": 4,
  "nbformat_minor": 0,
  "metadata": {
    "colab": {
      "provenance": [],
      "authorship_tag": "ABX9TyMFJcA/sdBbwf243LRNSPQ9",
      "include_colab_link": true
    },
    "kernelspec": {
      "name": "python3",
      "display_name": "Python 3"
    },
    "language_info": {
      "name": "python"
    }
  },
  "cells": [
    {
      "cell_type": "markdown",
      "metadata": {
        "id": "view-in-github",
        "colab_type": "text"
      },
      "source": [
        "<a href=\"https://colab.research.google.com/github/eskaex/PrakAlpro-01/blob/main/Week_15.ipynb\" target=\"_parent\"><img src=\"https://colab.research.google.com/assets/colab-badge.svg\" alt=\"Open In Colab\"/></a>"
      ]
    },
    {
      "cell_type": "code",
      "execution_count": null,
      "metadata": {
        "colab": {
          "base_uri": "https://localhost:8080/"
        },
        "id": "-sVMU3cH_fwM",
        "outputId": "466e44c8-0e0b-41d4-bd38-f0b083420cfe"
      },
      "outputs": [
        {
          "output_type": "stream",
          "name": "stdout",
          "text": [
            "Masukkan bilangan: 5\n",
            "5 adalah bilangan prima.\n"
          ]
        }
      ],
      "source": [
        "def cek_prima(n, pembagi=2):\n",
        "    if n < 2:\n",
        "        return False\n",
        "    if pembagi * pembagi > n:\n",
        "        return True\n",
        "    if n % pembagi == 0:\n",
        "        return False\n",
        "    return cek_prima(n, pembagi + 1)\n",
        "\n",
        "angka = int(input(\"Masukkan bilangan: \"))\n",
        "if cek_prima(angka):\n",
        "    print(angka, \"adalah bilangan prima.\")\n",
        "else:\n",
        "    print(angka, \"bukan bilangan prima.\")"
      ]
    },
    {
      "cell_type": "code",
      "source": [
        "def cek_palindrom(kalimat):\n",
        "    kalimat = kalimat.replace(\" \", \"\").lower()\n",
        "    if len(kalimat) <= 1:\n",
        "        return True\n",
        "    if kalimat[0] != kalimat[-1]:\n",
        "        return False\n",
        "    return cek_palindrom(kalimat[1:-1])\n",
        "\n",
        "kata = input(\"Masukkan kalimat: \")\n",
        "if cek_palindrom(kata):\n",
        "    print(\"Kalimat tersebut adalah palindrom.\")\n",
        "else:\n",
        "    print(\"Kalimat tersebut bukan palindrom.\")"
      ],
      "metadata": {
        "colab": {
          "base_uri": "https://localhost:8080/"
        },
        "id": "dgGbdtiOAGRT",
        "outputId": "0e051f50-c840-4add-c1e0-b30a0b5b29af"
      },
      "execution_count": null,
      "outputs": [
        {
          "output_type": "stream",
          "name": "stdout",
          "text": [
            "Masukkan kalimat: kasur rusak\n",
            "Kalimat tersebut adalah palindrom.\n"
          ]
        }
      ]
    },
    {
      "cell_type": "code",
      "source": [
        "def faktorial(n):\n",
        "    if n <= 1:\n",
        "        return 1\n",
        "    return n * faktorial(n - 1)\n",
        "\n",
        "def jumlah_ganjil(n):\n",
        "    if n <= 0:\n",
        "        return 0\n",
        "    if n % 2 == 1:\n",
        "        return n + jumlah_ganjil(n - 2)\n",
        "    else:\n",
        "        return jumlah_ganjil(n - 1)\n",
        "\n",
        "def jumlah_deret_ganjil_sampai_faktorial(n):\n",
        "    batas = faktorial(n)\n",
        "    return jumlah_ganjil(batas)\n",
        "\n",
        "n = int(input(\"Masukkan nilai n: \"))\n",
        "hasil = jumlah_deret_ganjil_sampai_faktorial(n)\n",
        "print(f\"Jumlah deret ganjil dari 1 sampai {n}! adalah {hasil}\")"
      ],
      "metadata": {
        "colab": {
          "base_uri": "https://localhost:8080/"
        },
        "id": "t2E2idvMAREE",
        "outputId": "604334aa-8b26-403d-cc4b-c335655cdac2"
      },
      "execution_count": null,
      "outputs": [
        {
          "output_type": "stream",
          "name": "stdout",
          "text": [
            "Masukkan nilai n: 4\n",
            "Jumlah deret ganjil dari 1 sampai 4! adalah 144\n"
          ]
        }
      ]
    },
    {
      "cell_type": "code",
      "source": [
        "def jumlah_digit(n):\n",
        "    if n == 0:\n",
        "        return 0\n",
        "    return (n % 10) + jumlah_digit(n // 10)\n",
        "\n",
        "angka = int(input(\"Masukkan bilangan: \"))\n",
        "hasil = jumlah_digit(angka)\n",
        "print(f\"Jumlah digit dari {angka} adalah {hasil}\")"
      ],
      "metadata": {
        "colab": {
          "base_uri": "https://localhost:8080/"
        },
        "id": "6q3_xsgJAa2C",
        "outputId": "0b2cd92b-b021-4872-a3c8-5f15ebc7a70a"
      },
      "execution_count": null,
      "outputs": [
        {
          "output_type": "stream",
          "name": "stdout",
          "text": [
            "Masukkan bilangan: 235\n",
            "Jumlah digit dari 235 adalah 10\n"
          ]
        }
      ]
    },
    {
      "cell_type": "code",
      "source": [
        "def kombinasi(n, r):\n",
        "    if r == 0 or r == n:\n",
        "        return 1\n",
        "    return kombinasi(n - 1, r - 1) + kombinasi(n - 1, r)\n",
        "\n",
        "n = int(input(\"Masukkan nilai n: \"))\n",
        "r = int(input(\"Masukkan nilai r: \"))\n",
        "\n",
        "hasil = kombinasi(n, r)\n",
        "print(f\"Kombinasi C({n}, {r}) = {hasil}\")"
      ],
      "metadata": {
        "colab": {
          "base_uri": "https://localhost:8080/"
        },
        "id": "Oni43B8fAkts",
        "outputId": "6eb67ac4-d33e-46bc-85d9-1d83a3da22cd"
      },
      "execution_count": null,
      "outputs": [
        {
          "output_type": "stream",
          "name": "stdout",
          "text": [
            "Masukkan nilai n: 4\n",
            "Masukkan nilai r: 2\n",
            "Kombinasi C(4, 2) = 6\n"
          ]
        }
      ]
    }
  ]
}