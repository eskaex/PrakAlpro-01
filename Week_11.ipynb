{
  "nbformat": 4,
  "nbformat_minor": 0,
  "metadata": {
    "colab": {
      "provenance": [],
      "authorship_tag": "ABX9TyPcDgHaiO3wfHfAKkHtWTMb",
      "include_colab_link": true
    },
    "kernelspec": {
      "name": "python3",
      "display_name": "Python 3"
    },
    "language_info": {
      "name": "python"
    }
  },
  "cells": [
    {
      "cell_type": "markdown",
      "metadata": {
        "id": "view-in-github",
        "colab_type": "text"
      },
      "source": [
        "<a href=\"https://colab.research.google.com/github/eskaex/PrakAlpro-01/blob/main/Week_11.ipynb\" target=\"_parent\"><img src=\"https://colab.research.google.com/assets/colab-badge.svg\" alt=\"Open In Colab\"/></a>"
      ]
    },
    {
      "cell_type": "code",
      "execution_count": 1,
      "metadata": {
        "colab": {
          "base_uri": "https://localhost:8080/"
        },
        "id": "EHIHYzICTV-Q",
        "outputId": "58f18162-98ca-4698-8a62-1656f3939a97"
      },
      "outputs": [
        {
          "output_type": "stream",
          "name": "stdout",
          "text": [
            "[6, 3, 2]\n"
          ]
        }
      ],
      "source": [
        "def bilangan_terbaik(data):\n",
        "    data.sort(reverse = True)\n",
        "    print(data[:3])\n",
        "\n",
        "bilangan_terbaik([1, 2, 3, 6])"
      ]
    },
    {
      "cell_type": "code",
      "source": [
        "def rata_rata():\n",
        "    isDone = False\n",
        "    listAngka = []\n",
        "    while isDone == False:\n",
        "        inputAngka = input(\"Masukkan angka atau ketik 'done' untuk selesai: \")\n",
        "        if inputAngka.lower() == \"done\":\n",
        "            isDone = True\n",
        "        else:\n",
        "            try:\n",
        "                angka = float(inputAngka)\n",
        "                listAngka.append(angka)\n",
        "            except:\n",
        "                print(\"Masukan angka bilangan bulan atau ketik 'done'!\")\n",
        "    try:\n",
        "        mean = sum(listAngka)/len(listAngka)\n",
        "        print(mean)\n",
        "    except ZeroDivisionError:\n",
        "        print(\"Minimal masukkan angka!\")\n",
        "        rata_rata()\n",
        "rata_rata()"
      ],
      "metadata": {
        "colab": {
          "base_uri": "https://localhost:8080/"
        },
        "id": "2nUK9KvhWAmY",
        "outputId": "05719c31-3d7d-4023-d498-ec890fb15817"
      },
      "execution_count": 3,
      "outputs": [
        {
          "output_type": "stream",
          "name": "stdout",
          "text": [
            "Masukkan angka atau ketik 'done' untuk selesai: 5\n",
            "Masukkan angka atau ketik 'done' untuk selesai: 4\n",
            "Masukkan angka atau ketik 'done' untuk selesai: 3\n",
            "Masukkan angka atau ketik 'done' untuk selesai: done\n",
            "4.0\n"
          ]
        }
      ]
    },
    {
      "cell_type": "code",
      "source": [
        "def kata_unik(file):\n",
        "    kataUnik = []\n",
        "    with open(file, \"r\") as f:\n",
        "        data = f.read()\n",
        "        f.close()\n",
        "    data = data.split()\n",
        "    data = set([i.strip(\",.?!\") for i in data])\n",
        "    print(f\"jumlah kata unik = {len(data)}\")\n",
        "    print(data)\n",
        "kata_unik(\"file.txt\")"
      ],
      "metadata": {
        "id": "nrmByzcVWFpE"
      },
      "execution_count": null,
      "outputs": []
    },
    {
      "cell_type": "code",
      "source": [
        "'''\n",
        "# file.txt\n",
        "Lorem ipsum dolor sit amet consectetur, adipisicing elit.\n",
        "Quisquam officiis voluptatum nihil dignissimos enim ea blanditiis hic\n",
        "quam dolore delectus fuga suscipit expedita facere tenetur quo, qui illum consequuntur error!\n",
        "'''"
      ],
      "metadata": {
        "colab": {
          "base_uri": "https://localhost:8080/",
          "height": 53
        },
        "id": "oIckX6n_WMVg",
        "outputId": "bfa562f5-ec15-43d4-e419-d2ace73e02ce"
      },
      "execution_count": 2,
      "outputs": [
        {
          "output_type": "execute_result",
          "data": {
            "text/plain": [
              "'\\nLorem ipsum dolor sit amet consectetur, adipisicing elit. \\nQuisquam officiis voluptatum nihil dignissimos enim ea blanditiis hic \\nquam dolore delectus fuga suscipit expedita facere tenetur quo, qui illum consequuntur error!\\n'"
            ],
            "application/vnd.google.colaboratory.intrinsic+json": {
              "type": "string"
            }
          },
          "metadata": {},
          "execution_count": 2
        }
      ]
    }
  ]
}