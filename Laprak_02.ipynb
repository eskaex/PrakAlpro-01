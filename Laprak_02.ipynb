{
  "nbformat": 4,
  "nbformat_minor": 0,
  "metadata": {
    "colab": {
      "provenance": [],
      "authorship_tag": "ABX9TyOejD95WjhtMJpzCyOLR/2v",
      "include_colab_link": true
    },
    "kernelspec": {
      "name": "python3",
      "display_name": "Python 3"
    },
    "language_info": {
      "name": "python"
    }
  },
  "cells": [
    {
      "cell_type": "markdown",
      "metadata": {
        "id": "view-in-github",
        "colab_type": "text"
      },
      "source": [
        "<a href=\"https://colab.research.google.com/github/eskaex/PrakAlpro-01/blob/main/Laprak_02.ipynb\" target=\"_parent\"><img src=\"https://colab.research.google.com/assets/colab-badge.svg\" alt=\"Open In Colab\"/></a>"
      ]
    },
    {
      "cell_type": "code",
      "execution_count": 12,
      "metadata": {
        "id": "pimy_AVCSpXj",
        "colab": {
          "base_uri": "https://localhost:8080/"
        },
        "outputId": "65930468-54f4-49bf-e310-e6b6b317e04c"
      },
      "outputs": [
        {
          "output_type": "stream",
          "name": "stdout",
          "text": [
            "Masukan Body Mass Index yang Anda inginkan: 24\n",
            "Masukan Tinggi Badan Anda (dalam meter): 1.8\n",
            "Berhasil dihitung! Berat badan ideal Anda 77.76 kg\n"
          ]
        }
      ],
      "source": [
        "bmi = float(input(\"Masukan Body Mass Index yang Anda inginkan: \"))\n",
        "tinggi = float(input(\"Masukan Tinggi Badan Anda (dalam meter): \"))\n",
        "hitung_Berat = bmi * (tinggi ** 2)\n",
        "print(\"Berhasil dihitung! Berat badan ideal Anda\", f\"{hitung_Berat:.2f}\", \"kg\")"
      ]
    },
    {
      "cell_type": "code",
      "source": [
        "x = int(input(\"Masukan bilangan bulat: \"))\n",
        "hitung = (2 * (x ** 3)) + (2 * x) + (15 / x)\n",
        "print(\"Berhasil dihitung! Hasil dari fungsi f(\", x, \") adalah\", hitung)"
      ],
      "metadata": {
        "colab": {
          "base_uri": "https://localhost:8080/"
        },
        "id": "cNFDF3l_nEMm",
        "outputId": "4b78e673-8db0-4ff3-cefc-94fa56eee3a3"
      },
      "execution_count": 9,
      "outputs": [
        {
          "output_type": "stream",
          "name": "stdout",
          "text": [
            "Masukan bilangan bulat: 3\n",
            "Berhasil dihitung! Hasil dari fungsi f( 3 ) adalah 65.0\n"
          ]
        }
      ]
    },
    {
      "cell_type": "code",
      "source": [
        "def hitung_income_expense(gajiPerJam, jamKerjaSeminggu):\n",
        "  belomPajak = gajiPerJam * jamKerjaSeminggu * 5\n",
        "  sudahPajak = belomPajak * (86/100)\n",
        "  outfit = sudahPajak * (10/100)\n",
        "  expenseSatu = sudahPajak - outfit\n",
        "  alatTulis = sudahPajak * (1/100)\n",
        "  expenseDua = expenseSatu - alatTulis\n",
        "  sedekah = expenseDua * (25/100)\n",
        "  anakYatim = (sedekah // 1000) * 300\n",
        "  kaumDhuafa = sedekah - anakYatim\n",
        "  return belomPajak, sudahPajak, outfit, alatTulis, sedekah, anakYatim, kaumDhuafa\n",
        "\n",
        "gajiPerJam = int(input(\"Gaji per jam yang Anda inginkan: \"))\n",
        "jamKerjaSeminggu = int(input(\"Jumlah jam kerja yang akan dilakukan dalam 1 minggu: \"))\n",
        "hitung = hitung_income_expense(gajiPerJam, jamKerjaSeminggu)\n",
        "print(f\"Pendapatan Budi selama libur musim panas sebelum melakukan pembayaran pajak: Rp{hitung[0]}\")\n",
        "print(f\"Pendapatan Budi selama libur musim panas setelah melakukan pembayaran pajak: Rp{round(hitung[1])}\")\n",
        "print(f\"Jumlah uang yang akan Budi habiskan untuk membeli pakaian dan aksesoris: Rp{round(hitung[2])}\")\n",
        "print(f\"Jumlah uang yang akan Budi habiskan untuk membeli alat tulis: Rp{round(hitung[3])}\")\n",
        "print(f\"Jumlah uang yang akan Budi sedekahkan: Rp{round(hitung[4])}\")\n",
        "print(f\"Jumlah uang yang akan diterima anak yatim: Rp{round(hitung[5])}\")\n",
        "print(f\"Jumlah uang yang akan diterima kaum dhuafa: Rp{round(hitung[6])}\")"
      ],
      "metadata": {
        "colab": {
          "base_uri": "https://localhost:8080/"
        },
        "id": "BqBtiZGnqaET",
        "outputId": "7b346aa3-2cb3-4dbf-ede5-72aa5ead5c07"
      },
      "execution_count": 18,
      "outputs": [
        {
          "output_type": "stream",
          "name": "stdout",
          "text": [
            "Gaji per jam yang Anda inginkan: 70000\n",
            "Jumlah jam kerja yang akan dilakukan dalam 1 minggu: 20\n",
            "Pendapatan Budi selama libur musim panas sebelum melakukan pembayaran pajak: Rp7000000\n",
            "Pendapatan Budi selama libur musim panas setelah melakukan pembayaran pajak: Rp6020000\n",
            "Jumlah uang yang akan Budi habiskan untuk membeli pakaian dan aksesoris: Rp602000\n",
            "Jumlah uang yang akan Budi habiskan untuk membeli alat tulis: Rp60200\n",
            "Jumlah uang yang akan Budi sedekahkan: Rp1339450\n",
            "Jumlah uang yang akan diterima anak yatim: Rp401700\n",
            "Jumlah uang yang akan diterima kaum dhuafa: Rp937750\n"
          ]
        }
      ]
    }
  ]
}