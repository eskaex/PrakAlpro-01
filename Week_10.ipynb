{
  "nbformat": 4,
  "nbformat_minor": 0,
  "metadata": {
    "colab": {
      "provenance": [],
      "authorship_tag": "ABX9TyOuOUrehyYVU7F2PtoRwMVB",
      "include_colab_link": true
    },
    "kernelspec": {
      "name": "python3",
      "display_name": "Python 3"
    },
    "language_info": {
      "name": "python"
    }
  },
  "cells": [
    {
      "cell_type": "markdown",
      "metadata": {
        "id": "view-in-github",
        "colab_type": "text"
      },
      "source": [
        "<a href=\"https://colab.research.google.com/github/eskaex/PrakAlpro-01/blob/main/Week_10.ipynb\" target=\"_parent\"><img src=\"https://colab.research.google.com/assets/colab-badge.svg\" alt=\"Open In Colab\"/></a>"
      ]
    },
    {
      "cell_type": "code",
      "execution_count": null,
      "metadata": {
        "id": "Szzyj8W9O3j3"
      },
      "outputs": [],
      "source": [
        "file1 = input(\"Nama file pertama: \")\n",
        "file2 = input(\"Nama file kedua: \")\n",
        "\n",
        "try:\n",
        "    with open(file1) as f1, open(file2) as f2:\n",
        "        lines1 = f1.readlines()\n",
        "        lines2 = f2.readlines()\n",
        "\n",
        "        max_len = max(len(lines1), len(lines2))\n",
        "        for i in range(max_len):\n",
        "            if i < len(lines1):\n",
        "                line1 = lines1[i].strip()\n",
        "            else:\n",
        "                line1 = \"\"\n",
        "\n",
        "            if i < len(lines2):\n",
        "                line2 = lines2[i].strip()\n",
        "            else:\n",
        "                line2 = \"\"\n",
        "\n",
        "            if line1 != line2:\n",
        "                print(f\"Baris ke-{i+1} berbeda:\")\n",
        "                print(f\"File 1: {line1}\")\n",
        "                print(f\"File 2: {line2}\")\n",
        "                print()\n",
        "except FileNotFoundError:\n",
        "    print(\"Salah satu file tidak ditemukan.\")"
      ]
    },
    {
      "cell_type": "code",
      "source": [
        "filename = input(\"Nama file: \")\n",
        "\n",
        "try:\n",
        "    with open(filename, \"r\") as file:\n",
        "        for line in file:\n",
        "            if '||' in line:\n",
        "                soal, jawaban = line.strip().split('||')\n",
        "                userJawab = input(f\"{soal.strip()}\\nJawab: \").strip()\n",
        "\n",
        "                if userJawab.lower() == jawaban.strip().lower():\n",
        "                    print(\"Jawaban benar!\\n\")\n",
        "                else:\n",
        "                    print(\"Jawaban salah!\\n\")\n",
        "except FileNotFoundError:\n",
        "    print(\"File tidak ditemukan!\")"
      ],
      "metadata": {
        "id": "nnZn3wqTT1iG"
      },
      "execution_count": null,
      "outputs": []
    }
  ]
}